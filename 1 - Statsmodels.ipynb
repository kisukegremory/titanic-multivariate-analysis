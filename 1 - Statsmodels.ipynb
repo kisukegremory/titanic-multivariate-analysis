{
 "cells": [
  {
   "cell_type": "markdown",
   "id": "41a32b34-5843-4a05-be4d-fe4960e310f4",
   "metadata": {},
   "source": [
    "\n",
    "Source\n",
    "https://www.kaggle.com/datasets/yasserh/titanic-dataset"
   ]
  },
  {
   "cell_type": "code",
   "execution_count": 1,
   "id": "719f31c4-dadd-4073-aef5-74f34efce41d",
   "metadata": {},
   "outputs": [
    {
     "name": "stderr",
     "output_type": "stream",
     "text": [
      "C:\\Users\\aluga.com\\Desktop\\private-repos\\titanic-multivariate-analysis\\.venv\\lib\\site-packages\\tqdm\\auto.py:22: TqdmWarning: IProgress not found. Please update jupyter and ipywidgets. See https://ipywidgets.readthedocs.io/en/stable/user_install.html\n",
      "  from .autonotebook import tqdm as notebook_tqdm\n"
     ]
    }
   ],
   "source": [
    "import pandas as pd\n",
    "import numpy as np\n",
    "import statsmodels.api as sm\n",
    "from sklearn.metrics import accuracy_score\n",
    "import sweetviz as sv"
   ]
  },
  {
   "cell_type": "code",
   "execution_count": 2,
   "id": "d3b5cc63-d057-4813-b127-4237387a2efa",
   "metadata": {},
   "outputs": [
    {
     "data": {
      "text/html": [
       "<div>\n",
       "<style scoped>\n",
       "    .dataframe tbody tr th:only-of-type {\n",
       "        vertical-align: middle;\n",
       "    }\n",
       "\n",
       "    .dataframe tbody tr th {\n",
       "        vertical-align: top;\n",
       "    }\n",
       "\n",
       "    .dataframe thead th {\n",
       "        text-align: right;\n",
       "    }\n",
       "</style>\n",
       "<table border=\"1\" class=\"dataframe\">\n",
       "  <thead>\n",
       "    <tr style=\"text-align: right;\">\n",
       "      <th></th>\n",
       "      <th>PassengerId</th>\n",
       "      <th>Survived</th>\n",
       "      <th>Pclass</th>\n",
       "      <th>Name</th>\n",
       "      <th>Sex</th>\n",
       "      <th>Age</th>\n",
       "      <th>SibSp</th>\n",
       "      <th>Parch</th>\n",
       "      <th>Ticket</th>\n",
       "      <th>Fare</th>\n",
       "      <th>Cabin</th>\n",
       "      <th>Embarked</th>\n",
       "    </tr>\n",
       "  </thead>\n",
       "  <tbody>\n",
       "    <tr>\n",
       "      <th>0</th>\n",
       "      <td>1</td>\n",
       "      <td>0</td>\n",
       "      <td>3</td>\n",
       "      <td>Braund, Mr. Owen Harris</td>\n",
       "      <td>male</td>\n",
       "      <td>22.0</td>\n",
       "      <td>1</td>\n",
       "      <td>0</td>\n",
       "      <td>A/5 21171</td>\n",
       "      <td>7.2500</td>\n",
       "      <td>NaN</td>\n",
       "      <td>S</td>\n",
       "    </tr>\n",
       "    <tr>\n",
       "      <th>1</th>\n",
       "      <td>2</td>\n",
       "      <td>1</td>\n",
       "      <td>1</td>\n",
       "      <td>Cumings, Mrs. John Bradley (Florence Briggs Th...</td>\n",
       "      <td>female</td>\n",
       "      <td>38.0</td>\n",
       "      <td>1</td>\n",
       "      <td>0</td>\n",
       "      <td>PC 17599</td>\n",
       "      <td>71.2833</td>\n",
       "      <td>C85</td>\n",
       "      <td>C</td>\n",
       "    </tr>\n",
       "  </tbody>\n",
       "</table>\n",
       "</div>"
      ],
      "text/plain": [
       "   PassengerId  Survived  Pclass  \\\n",
       "0            1         0       3   \n",
       "1            2         1       1   \n",
       "\n",
       "                                                Name     Sex   Age  SibSp  \\\n",
       "0                            Braund, Mr. Owen Harris    male  22.0      1   \n",
       "1  Cumings, Mrs. John Bradley (Florence Briggs Th...  female  38.0      1   \n",
       "\n",
       "   Parch     Ticket     Fare Cabin Embarked  \n",
       "0      0  A/5 21171   7.2500   NaN        S  \n",
       "1      0   PC 17599  71.2833   C85        C  "
      ]
     },
     "execution_count": 2,
     "metadata": {},
     "output_type": "execute_result"
    }
   ],
   "source": [
    "df = pd.read_csv(\"data/Titanic-Dataset.csv\")\n",
    "df.head(2)"
   ]
  },
  {
   "cell_type": "code",
   "execution_count": 23,
   "id": "49e37562-0378-481a-803d-2c362c4c4cb1",
   "metadata": {},
   "outputs": [],
   "source": [
    "df.drop(['PassengerId', 'Ticket', 'Cabin','Name'],axis=1,inplace=True, errors='ignore')\n",
    "df = pd.get_dummies(df,columns=['Pclass','Embarked','Sex'],drop_first=True)"
   ]
  },
  {
   "cell_type": "code",
   "execution_count": 34,
   "id": "e076f206-deba-49aa-b45f-d6e8a00fbb23",
   "metadata": {},
   "outputs": [
    {
     "name": "stderr",
     "output_type": "stream",
     "text": [
      "C:\\Users\\aluga.com\\Desktop\\private-repos\\titanic-multivariate-analysis\\.venv\\lib\\site-packages\\tqdm\\auto.py:22: TqdmWarning: IProgress not found. Please update jupyter and ipywidgets. See https://ipywidgets.readthedocs.io/en/stable/user_install.html\n",
      "  from .autonotebook import tqdm as notebook_tqdm\n"
     ]
    }
   ],
   "source": []
  },
  {
   "cell_type": "code",
   "execution_count": 3,
   "id": "c73a9d6f-0f4d-43c7-b23a-60764b8d1ed9",
   "metadata": {},
   "outputs": [
    {
     "name": "stderr",
     "output_type": "stream",
     "text": [
      "Feature: SibSp                               |████████████████████████████████████████████████████████████▊                                                    | [ 54%]   00:01 -> (00:01 left)C:\\Users\\aluga.com\\Desktop\\private-repos\\titanic-multivariate-analysis\\.venv\\lib\\site-packages\\sweetviz\\utils.py:34: FutureWarning: The series.append method is deprecated and will be removed from pandas in a future version. Use pandas.concat instead.\n",
      "  clamped_series = clamped_series.append(other_series, ignore_index=False)\n",
      "Feature: Parch                               |█████████████████████████████████████████████████████████████████████▌                                           | [ 62%]   00:02 -> (00:01 left)C:\\Users\\aluga.com\\Desktop\\private-repos\\titanic-multivariate-analysis\\.venv\\lib\\site-packages\\sweetviz\\utils.py:34: FutureWarning: The series.append method is deprecated and will be removed from pandas in a future version. Use pandas.concat instead.\n",
      "  clamped_series = clamped_series.append(other_series, ignore_index=False)\n",
      "[Step 3/3] Generating associations graph     |                                                                                                                     | [  0%]   00:00 -> (? left)C:\\Users\\aluga.com\\Desktop\\private-repos\\titanic-multivariate-analysis\\.venv\\lib\\site-packages\\sweetviz\\graph_associations.py:223: FutureWarning: The frame.append method is deprecated and will be removed from pandas in a future version. Use pandas.concat instead.\n",
      "  new_dataframe = new_dataframe.append(pd.Series(empty_row_dict, name=feature))\n",
      "C:\\Users\\aluga.com\\Desktop\\private-repos\\titanic-multivariate-analysis\\.venv\\lib\\site-packages\\sweetviz\\graph_associations.py:223: FutureWarning: The frame.append method is deprecated and will be removed from pandas in a future version. Use pandas.concat instead.\n",
      "  new_dataframe = new_dataframe.append(pd.Series(empty_row_dict, name=feature))\n",
      "C:\\Users\\aluga.com\\Desktop\\private-repos\\titanic-multivariate-analysis\\.venv\\lib\\site-packages\\sweetviz\\graph_associations.py:223: FutureWarning: The frame.append method is deprecated and will be removed from pandas in a future version. Use pandas.concat instead.\n",
      "  new_dataframe = new_dataframe.append(pd.Series(empty_row_dict, name=feature))\n",
      "C:\\Users\\aluga.com\\Desktop\\private-repos\\titanic-multivariate-analysis\\.venv\\lib\\site-packages\\sweetviz\\graph_associations.py:223: FutureWarning: The frame.append method is deprecated and will be removed from pandas in a future version. Use pandas.concat instead.\n",
      "  new_dataframe = new_dataframe.append(pd.Series(empty_row_dict, name=feature))\n",
      "C:\\Users\\aluga.com\\Desktop\\private-repos\\titanic-multivariate-analysis\\.venv\\lib\\site-packages\\sweetviz\\graph_associations.py:223: FutureWarning: The frame.append method is deprecated and will be removed from pandas in a future version. Use pandas.concat instead.\n",
      "  new_dataframe = new_dataframe.append(pd.Series(empty_row_dict, name=feature))\n",
      "C:\\Users\\aluga.com\\Desktop\\private-repos\\titanic-multivariate-analysis\\.venv\\lib\\site-packages\\sweetviz\\graph_associations.py:223: FutureWarning: The frame.append method is deprecated and will be removed from pandas in a future version. Use pandas.concat instead.\n",
      "  new_dataframe = new_dataframe.append(pd.Series(empty_row_dict, name=feature))\n",
      "C:\\Users\\aluga.com\\Desktop\\private-repos\\titanic-multivariate-analysis\\.venv\\lib\\site-packages\\sweetviz\\graph_associations.py:223: FutureWarning: The frame.append method is deprecated and will be removed from pandas in a future version. Use pandas.concat instead.\n",
      "  new_dataframe = new_dataframe.append(pd.Series(empty_row_dict, name=feature))\n",
      "C:\\Users\\aluga.com\\Desktop\\private-repos\\titanic-multivariate-analysis\\.venv\\lib\\site-packages\\sweetviz\\graph_associations.py:223: FutureWarning: The frame.append method is deprecated and will be removed from pandas in a future version. Use pandas.concat instead.\n",
      "  new_dataframe = new_dataframe.append(pd.Series(empty_row_dict, name=feature))\n",
      "C:\\Users\\aluga.com\\Desktop\\private-repos\\titanic-multivariate-analysis\\.venv\\lib\\site-packages\\sweetviz\\graph_associations.py:223: FutureWarning: The frame.append method is deprecated and will be removed from pandas in a future version. Use pandas.concat instead.\n",
      "  new_dataframe = new_dataframe.append(pd.Series(empty_row_dict, name=feature))\n",
      "Done! Use 'show' commands to display/save.   |█████████████████████████████████████████████████████████████████████████████████████████████████████████████████| [100%]   00:00 -> (00:00 left)\n"
     ]
    },
    {
     "name": "stdout",
     "output_type": "stream",
     "text": [
      "Report SWEETVIZ_REPORT.html was generated! NOTEBOOK/COLAB USERS: the web browser MAY not pop up, regardless, the report IS saved in your notebook/colab files.\n"
     ]
    }
   ],
   "source": [
    "my_report = sv.analyze(df,target_feat='Survived')\n",
    "my_report.show_html()"
   ]
  },
  {
   "cell_type": "code",
   "execution_count": 24,
   "id": "39a932b7-de6f-4740-b6d2-b36a643777e6",
   "metadata": {},
   "outputs": [],
   "source": [
    "df['Age'].fillna(df['Age'].mean().astype(int),inplace=True)"
   ]
  },
  {
   "cell_type": "code",
   "execution_count": 28,
   "id": "a66e31f2-6df3-488f-8698-ec1b241b834d",
   "metadata": {},
   "outputs": [
    {
     "name": "stdout",
     "output_type": "stream",
     "text": [
      "Optimization terminated successfully.\n",
      "         Current function value: 0.487074\n",
      "         Iterations 6\n"
     ]
    }
   ],
   "source": [
    "# defining the dependent and independent variables\n",
    "Xtrain = df.drop('Survived',axis=1)\n",
    "ytrain = df[['Survived']]\n",
    "   \n",
    "# building the model and fitting the data\n",
    "log_reg = sm.Logit(ytrain, Xtrain).fit()"
   ]
  },
  {
   "cell_type": "code",
   "execution_count": 33,
   "id": "71a81a94-36e5-4869-a6cb-ad23c12bf119",
   "metadata": {},
   "outputs": [
    {
     "data": {
      "text/plain": [
       "0.6161616161616161"
      ]
     },
     "execution_count": 33,
     "metadata": {},
     "output_type": "execute_result"
    }
   ],
   "source": [
    "accuracy_score(ytrain,log_reg.predict(Xtrain).astype(int))"
   ]
  },
  {
   "cell_type": "code",
   "execution_count": 29,
   "id": "3e8657be-e14f-4f63-9749-a0123b8b3327",
   "metadata": {},
   "outputs": [
    {
     "data": {
      "text/html": [
       "<table class=\"simpletable\">\n",
       "<caption>Logit Regression Results</caption>\n",
       "<tr>\n",
       "  <th>Dep. Variable:</th>       <td>Survived</td>     <th>  No. Observations:  </th>  <td>   891</td>  \n",
       "</tr>\n",
       "<tr>\n",
       "  <th>Model:</th>                 <td>Logit</td>      <th>  Df Residuals:      </th>  <td>   882</td>  \n",
       "</tr>\n",
       "<tr>\n",
       "  <th>Method:</th>                 <td>MLE</td>       <th>  Df Model:          </th>  <td>     8</td>  \n",
       "</tr>\n",
       "<tr>\n",
       "  <th>Date:</th>            <td>Wed, 18 May 2022</td> <th>  Pseudo R-squ.:     </th>  <td>0.2686</td>  \n",
       "</tr>\n",
       "<tr>\n",
       "  <th>Time:</th>                <td>13:32:44</td>     <th>  Log-Likelihood:    </th> <td> -433.98</td> \n",
       "</tr>\n",
       "<tr>\n",
       "  <th>converged:</th>             <td>True</td>       <th>  LL-Null:           </th> <td> -593.33</td> \n",
       "</tr>\n",
       "<tr>\n",
       "  <th>Covariance Type:</th>     <td>nonrobust</td>    <th>  LLR p-value:       </th> <td>4.310e-64</td>\n",
       "</tr>\n",
       "</table>\n",
       "<table class=\"simpletable\">\n",
       "<tr>\n",
       "       <td></td>         <th>coef</th>     <th>std err</th>      <th>z</th>      <th>P>|z|</th>  <th>[0.025</th>    <th>0.975]</th>  \n",
       "</tr>\n",
       "<tr>\n",
       "  <th>Age</th>        <td>    0.0041</td> <td>    0.006</td> <td>    0.729</td> <td> 0.466</td> <td>   -0.007</td> <td>    0.015</td>\n",
       "</tr>\n",
       "<tr>\n",
       "  <th>SibSp</th>      <td>   -0.2523</td> <td>    0.096</td> <td>   -2.641</td> <td> 0.008</td> <td>   -0.440</td> <td>   -0.065</td>\n",
       "</tr>\n",
       "<tr>\n",
       "  <th>Parch</th>      <td>   -0.0793</td> <td>    0.112</td> <td>   -0.707</td> <td> 0.480</td> <td>   -0.299</td> <td>    0.141</td>\n",
       "</tr>\n",
       "<tr>\n",
       "  <th>Fare</th>       <td>    0.0174</td> <td>    0.003</td> <td>    5.570</td> <td> 0.000</td> <td>    0.011</td> <td>    0.024</td>\n",
       "</tr>\n",
       "<tr>\n",
       "  <th>Pclass_2</th>   <td>    0.6143</td> <td>    0.249</td> <td>    2.471</td> <td> 0.013</td> <td>    0.127</td> <td>    1.102</td>\n",
       "</tr>\n",
       "<tr>\n",
       "  <th>Pclass_3</th>   <td>   -0.2292</td> <td>    0.223</td> <td>   -1.027</td> <td> 0.304</td> <td>   -0.667</td> <td>    0.208</td>\n",
       "</tr>\n",
       "<tr>\n",
       "  <th>Embarked_Q</th> <td>    0.5321</td> <td>    0.352</td> <td>    1.512</td> <td> 0.131</td> <td>   -0.158</td> <td>    1.222</td>\n",
       "</tr>\n",
       "<tr>\n",
       "  <th>Embarked_S</th> <td>    0.2277</td> <td>    0.222</td> <td>    1.025</td> <td> 0.305</td> <td>   -0.208</td> <td>    0.663</td>\n",
       "</tr>\n",
       "<tr>\n",
       "  <th>Sex_male</th>   <td>   -2.1853</td> <td>    0.179</td> <td>  -12.185</td> <td> 0.000</td> <td>   -2.537</td> <td>   -1.834</td>\n",
       "</tr>\n",
       "</table>"
      ],
      "text/plain": [
       "<class 'statsmodels.iolib.summary.Summary'>\n",
       "\"\"\"\n",
       "                           Logit Regression Results                           \n",
       "==============================================================================\n",
       "Dep. Variable:               Survived   No. Observations:                  891\n",
       "Model:                          Logit   Df Residuals:                      882\n",
       "Method:                           MLE   Df Model:                            8\n",
       "Date:                Wed, 18 May 2022   Pseudo R-squ.:                  0.2686\n",
       "Time:                        13:32:44   Log-Likelihood:                -433.98\n",
       "converged:                       True   LL-Null:                       -593.33\n",
       "Covariance Type:            nonrobust   LLR p-value:                 4.310e-64\n",
       "==============================================================================\n",
       "                 coef    std err          z      P>|z|      [0.025      0.975]\n",
       "------------------------------------------------------------------------------\n",
       "Age            0.0041      0.006      0.729      0.466      -0.007       0.015\n",
       "SibSp         -0.2523      0.096     -2.641      0.008      -0.440      -0.065\n",
       "Parch         -0.0793      0.112     -0.707      0.480      -0.299       0.141\n",
       "Fare           0.0174      0.003      5.570      0.000       0.011       0.024\n",
       "Pclass_2       0.6143      0.249      2.471      0.013       0.127       1.102\n",
       "Pclass_3      -0.2292      0.223     -1.027      0.304      -0.667       0.208\n",
       "Embarked_Q     0.5321      0.352      1.512      0.131      -0.158       1.222\n",
       "Embarked_S     0.2277      0.222      1.025      0.305      -0.208       0.663\n",
       "Sex_male      -2.1853      0.179    -12.185      0.000      -2.537      -1.834\n",
       "==============================================================================\n",
       "\"\"\""
      ]
     },
     "execution_count": 29,
     "metadata": {},
     "output_type": "execute_result"
    }
   ],
   "source": [
    "log_reg.summary()"
   ]
  }
 ],
 "metadata": {
  "kernelspec": {
   "display_name": "Python 3 (ipykernel)",
   "language": "python",
   "name": "python3"
  },
  "language_info": {
   "codemirror_mode": {
    "name": "ipython",
    "version": 3
   },
   "file_extension": ".py",
   "mimetype": "text/x-python",
   "name": "python",
   "nbconvert_exporter": "python",
   "pygments_lexer": "ipython3",
   "version": "3.9.3"
  }
 },
 "nbformat": 4,
 "nbformat_minor": 5
}
